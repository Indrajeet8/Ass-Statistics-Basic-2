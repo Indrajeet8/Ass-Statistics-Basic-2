{
 "cells": [
  {
   "cell_type": "markdown",
   "id": "86e470f0-6233-490a-b092-149f81ce1d19",
   "metadata": {},
   "source": [
    "Statistics Basic-2"
   ]
  },
  {
   "cell_type": "markdown",
   "id": "239e6069-0dea-417f-ab39-0be415b40a1e",
   "metadata": {},
   "source": [
    "Assignment Questions"
   ]
  },
  {
   "cell_type": "raw",
   "id": "705718e4-f823-4303-a914-ac75149712d6",
   "metadata": {},
   "source": [
    "Q1 . what are  three measures of central tendency "
   ]
  },
  {
   "cell_type": "markdown",
   "id": "5673cc7d-273b-4bd2-8eba-ba99e1b17906",
   "metadata": {},
   "source": [
    "Thre are Three Measures of central tendency\n",
    "1. mean \n",
    "2. mode \n",
    "3. median "
   ]
  },
  {
   "cell_type": "code",
   "execution_count": null,
   "id": "61fbbec1-cf4c-4d2c-a8d5-bca1ba94e3b3",
   "metadata": {},
   "outputs": [],
   "source": []
  },
  {
   "cell_type": "raw",
   "id": "1f0725fa-fec8-4379-9453-142ef1c4a8f3",
   "metadata": {},
   "source": [
    "Q2. what is the diffrence b/w the mean median and mode \n",
    "how are they used to measure the central tendency of a dataset \n"
   ]
  },
  {
   "cell_type": "raw",
   "id": "e57505a0-9694-4f61-aabb-84077479c221",
   "metadata": {},
   "source": [
    "Ans --\n",
    "  The mode is the most frequent value. The median is the middle number in an ordered data set. The mean is the sum of all values divided by the total number of values"
   ]
  },
  {
   "cell_type": "code",
   "execution_count": null,
   "id": "91942050-3a0a-4176-8d39-22aec5addf4d",
   "metadata": {},
   "outputs": [],
   "source": []
  },
  {
   "cell_type": "raw",
   "id": "c22ddf06-b318-4b15-81ad-5c16a733bec2",
   "metadata": {},
   "source": [
    "Q3. Measure the three measures of central tendency for the given height data:\n",
    "\n",
    " [178,177,176,177,178.2,178,175,179,180,175,178.9,176.2,177,172.5,178,176.5]"
   ]
  },
  {
   "cell_type": "markdown",
   "id": "f53107a4-2651-437e-8b7e-d1ac5704d8ca",
   "metadata": {},
   "source": [
    "Ans. \n",
    "\n",
    "177.01875"
   ]
  },
  {
   "cell_type": "code",
   "execution_count": null,
   "id": "c17e75ee-8ea0-4a95-bd5e-88f4f6ae234a",
   "metadata": {},
   "outputs": [],
   "source": []
  },
  {
   "cell_type": "raw",
   "id": "25ad6102-639a-4183-95b5-f3193e06dc0e",
   "metadata": {},
   "source": [
    "Q4. Find the standard deviation for the given data:\n",
    "\n",
    "[178,177,176,177,178.2,178,175,179,180,175,178.9,176.2,177,172.5,178,176.5]"
   ]
  },
  {
   "cell_type": "raw",
   "id": "9014a0a3-7458-4524-91e5-24b73a8ede99",
   "metadata": {},
   "source": [
    "ans. 177"
   ]
  },
  {
   "cell_type": "code",
   "execution_count": null,
   "id": "dc2d05db-fb69-4862-9586-bb146ae0b194",
   "metadata": {},
   "outputs": [],
   "source": []
  },
  {
   "cell_type": "raw",
   "id": "0c945505-c0a4-40e9-b39a-58b16bbc71c6",
   "metadata": {},
   "source": [
    "Q..5 \n",
    "How are measures of dispersion such as range variance and standard devitioan used to describe the spread of a dataset  "
   ]
  },
  {
   "cell_type": "markdown",
   "id": "38985dd1-493a-4dbf-9f8c-ee30c2a4a864",
   "metadata": {},
   "source": [
    "Ans. \n",
    "\n",
    "Measures of dispersion such as range, variance, and standard deviation are used to describe how much the data points in a dataset vary or spread out from the central tendency."
   ]
  },
  {
   "cell_type": "markdown",
   "id": "b3b9bd77-2b31-4c6d-b1f5-ba499dc3a214",
   "metadata": {},
   "source": [
    "The range is the simplest measure of dispersion and is the difference between the maximum and minimum values in a dataset. It is easy to calculate, but it can be affected by outliers and may not give a complete picture of the spread of the data."
   ]
  },
  {
   "cell_type": "markdown",
   "id": "0487fec7-e3e7-4ad4-b447-a92e1b81c377",
   "metadata": {},
   "source": [
    "Variance is a measure of how far each value in the dataset is from the mean value. It is calculated by taking the average of the squared differences from the mean. Variance is useful for understanding how much the data points differ from the average and can be used to compare the spread of datasets with different units of measurement.\n",
    "\n",
    "The standard deviation is the square root of the variance and is another commonly used measure of dispersion. It measures the typical or average distance between each data point and the mean. Like variance, standard deviation is useful for comparing the spread of datasets with different units of measurement and for identifying outliers.\n",
    "\n"
   ]
  },
  {
   "cell_type": "code",
   "execution_count": null,
   "id": "7c55b5ce-e42f-42c7-a1d7-1410568b4e54",
   "metadata": {},
   "outputs": [],
   "source": []
  },
  {
   "cell_type": "raw",
   "id": "3a8aa808-9474-4a9b-95bc-541046f067b0",
   "metadata": {},
   "source": [
    "Q. 6 what is vann diagram "
   ]
  },
  {
   "cell_type": "markdown",
   "id": "6ac6549e-2eda-4dae-bc82-3312601d3cf0",
   "metadata": {},
   "source": [
    "Ans. \n",
    "A Venn diagram is an illustration that uses circles to show the relationships among things or finite groups of things"
   ]
  },
  {
   "cell_type": "code",
   "execution_count": null,
   "id": "9543409d-70c4-4f45-92c8-b96be0e8f85e",
   "metadata": {},
   "outputs": [],
   "source": []
  },
  {
   "cell_type": "raw",
   "id": "c07b2126-3d8a-467f-9c6e-aea3489ba77d",
   "metadata": {},
   "source": [
    "Q7. \n",
    "two sets \n",
    "A = (2,3,4,5,6,7)\n",
    "B = (0,2,6,8,10)\n",
    "Find :\n",
    "    i) \tA B\n",
    "\n",
    "(ii)\tA ⋃ B"
   ]
  },
  {
   "cell_type": "markdown",
   "id": "eae9f8ab-8b61-47cb-ad65-1e899c3095cd",
   "metadata": {},
   "source": [
    "Ans . \n",
    "(1) -- (2,6,)\n",
    "(2) -- (0,2,3,4,5,6,7,8,10)"
   ]
  },
  {
   "cell_type": "code",
   "execution_count": null,
   "id": "ee30a8ad-f2e4-425b-b97a-949b8dfa3482",
   "metadata": {},
   "outputs": [],
   "source": []
  },
  {
   "cell_type": "raw",
   "id": "8abb3826-456b-4737-a008-6e45e97e14db",
   "metadata": {},
   "source": [
    "Q8 . What do you under stand about skeness in data "
   ]
  },
  {
   "cell_type": "markdown",
   "id": "5aa6a0d3-7f21-4a44-af6e-e98842327eb6",
   "metadata": {},
   "source": [
    "Ans. \n",
    "Skewness is a measurement of the distortion of symmetrical distribution or asymmetry in a data set"
   ]
  },
  {
   "cell_type": "code",
   "execution_count": null,
   "id": "16106fb9-1578-4c05-a4ba-745508712821",
   "metadata": {},
   "outputs": [],
   "source": []
  },
  {
   "cell_type": "raw",
   "id": "4cb9568c-8dd2-4070-b962-e8b1412a9bc6",
   "metadata": {},
   "source": [
    "Q9. if data is right skewed then what willbe the position of median withrespect to mean  "
   ]
  },
  {
   "cell_type": "markdown",
   "id": "7198b3ea-2fd5-48fc-9005-8c6dbc991c64",
   "metadata": {},
   "source": [
    "Ans . \n",
    "Less than  the mean  "
   ]
  },
  {
   "cell_type": "code",
   "execution_count": null,
   "id": "b5941542-957b-4db2-8604-60d65469b960",
   "metadata": {},
   "outputs": [],
   "source": []
  },
  {
   "cell_type": "code",
   "execution_count": null,
   "id": "833f3cd8-1ab6-41e6-ae27-56db5615f639",
   "metadata": {},
   "outputs": [],
   "source": [
    "Q.10 explain the fiffrence b/w covariance and correl"
   ]
  }
 ],
 "metadata": {
  "kernelspec": {
   "display_name": "Python 3 (ipykernel)",
   "language": "python",
   "name": "python3"
  },
  "language_info": {
   "codemirror_mode": {
    "name": "ipython",
    "version": 3
   },
   "file_extension": ".py",
   "mimetype": "text/x-python",
   "name": "python",
   "nbconvert_exporter": "python",
   "pygments_lexer": "ipython3",
   "version": "3.10.8"
  }
 },
 "nbformat": 4,
 "nbformat_minor": 5
}
